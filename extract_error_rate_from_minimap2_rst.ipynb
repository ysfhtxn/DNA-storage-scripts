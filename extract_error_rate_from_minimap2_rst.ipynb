{
 "cells": [
  {
   "cell_type": "code",
   "execution_count": null,
   "id": "cf91c266",
   "metadata": {},
   "outputs": [],
   "source": [
    "import re\n",
    "import pandas as pd\n",
    "from Bio import SeqIO\n",
    "from collections import defaultdict\n",
    "from tqdm.notebook import tqdm\n",
    "\n",
    "# Code block of main extracting function\n",
    "\n",
    "def reverse_complement(seq):\n",
    "    complement = str.maketrans(\"acgtACGT\", \"tgcaTGCA\")\n",
    "    return seq.translate(complement)[::-1]\n",
    "\n",
    "def load_reference_genome(fasta_path):\n",
    "    ref_dict = {}\n",
    "    for record in SeqIO.parse(fasta_path, \"fasta\"):\n",
    "        ref_dict[record.id] = str(record.seq).lower()\n",
    "    return ref_dict\n",
    "\n",
    "def parse_cigar(cigar):\n",
    "    ops = re.findall(r'(\\d+)([MID])', cigar)\n",
    "    counts = {'M': 0, 'I': 0, 'D': 0}\n",
    "    for length, op in ops:\n",
    "        counts[op] += int(length)\n",
    "    return counts['M'], counts['I'], counts['D']\n",
    "\n",
    "def parse_cs(cs, ref_seq_segment=None):\n",
    "    subs = re.findall(r'\\*([acgt])([acgt])', cs)\n",
    "    ins = re.findall(r'\\+([acgt]+)', cs)\n",
    "    dels = re.findall(r'-([acgt]+)', cs)\n",
    "    matches = re.findall(r':(\\d+)', cs)\n",
    "    \n",
    "    replacements = defaultdict(int)\n",
    "    replacements['a->a'] = ref_seq_segment.count('a')+ref_seq_segment.count('A')\n",
    "    replacements['c->c'] = ref_seq_segment.count('c')+ref_seq_segment.count('C')\n",
    "    replacements['g->g'] = ref_seq_segment.count('g')+ref_seq_segment.count('G')\n",
    "    replacements['t->t'] = ref_seq_segment.count('t')+ref_seq_segment.count('T')\n",
    "    \n",
    "    for old, new in subs:\n",
    "        replacement_key = f\"{old}->{new}\"\n",
    "        replacements[replacement_key] += 1\n",
    "        replacements[f'{old}->{old}'] -= 1\n",
    "\n",
    "    return {\n",
    "        \"cs_matches\": sum(map(int, matches)),\n",
    "        \"cs_substitutions\": len(subs),\n",
    "        \"cs_insertions\": sum(len(i) for i in ins),\n",
    "        \"cs_deletions\": sum(len(d) for d in dels),\n",
    "        **replacements\n",
    "    }\n",
    "    \n",
    "def extract_stats_from_paf_table(paf_path, ref_fasta_path):\n",
    "    ref_dict = load_reference_genome(ref_fasta_path)\n",
    "    print('Loading reference genome completed')\n",
    "\n",
    "    stats_list = []\n",
    "\n",
    "    with open(paf_path, 'r') as f:\n",
    "        lines = f.readlines()\n",
    "\n",
    "    for line in tqdm(lines, desc=\"Processing PAF\", unit=\"read\", total=len(lines)):\n",
    "        fields = line.strip().split('\\t')\n",
    "        if len(fields) < 12:\n",
    "            continue\n",
    "\n",
    "        query_name = fields[0]\n",
    "        ref_name = fields[5]\n",
    "        ref_start = int(fields[7])\n",
    "        ref_end = int(fields[8])\n",
    "        ref_span = ref_end - ref_start\n",
    "\n",
    "        optional_fields = fields[12:]\n",
    "        cigar_field = next((f for f in optional_fields if f.startswith(\"cg:Z:\")), None)\n",
    "        cs_field = next((f for f in optional_fields if f.startswith(\"cs:Z:\")), None)\n",
    "\n",
    "        if not cigar_field or not cs_field:\n",
    "            continue\n",
    "\n",
    "        cs_string = cs_field[5:]\n",
    "        cigar_string = cigar_field[5:]\n",
    "        cigar_M, cigar_I, cigar_D = parse_cigar(cigar_string)\n",
    "\n",
    "        ref_seq_segment = ref_dict.get(ref_name, '')[ref_start:ref_end]\n",
    "\n",
    "        cs_stats = parse_cs(cs_string, ref_seq_segment=ref_seq_segment)\n",
    "\n",
    "        cigar_error_bases = cs_stats['cs_substitutions'] + cs_stats['cs_insertions'] + cs_stats['cs_deletions']\n",
    "        cigar_alignment_span = cs_stats['cs_matches'] + cs_stats['cs_insertions'] + cs_stats['cs_deletions']\n",
    "        error_rate = cigar_error_bases / cigar_alignment_span if cigar_alignment_span > 0 else None\n",
    "\n",
    "        row_stats = {\n",
    "            \"query_name\": query_name,\n",
    "            \"ref_name\": ref_name,\n",
    "            \"ref_span\": ref_span,\n",
    "            \"cigar_matches\": cigar_M,\n",
    "            \"cigar_insertions\": cigar_I,\n",
    "            \"cigar_deletions\": cigar_D,\n",
    "            \"cigar_error_bases\": cigar_error_bases,\n",
    "            \"cigar_alignment_span\": cigar_alignment_span,\n",
    "            \"error_rate\": error_rate,\n",
    "            **cs_stats\n",
    "        }\n",
    "\n",
    "        stats_list.append(row_stats)\n",
    "\n",
    "    return pd.DataFrame(stats_list)"
   ]
  },
  {
   "cell_type": "code",
   "execution_count": 2,
   "id": "1eb5e201",
   "metadata": {},
   "outputs": [],
   "source": [
    "from matplotlib.colors import LinearSegmentedColormap\n",
    "import matplotlib.pyplot as plt\n",
    "import seaborn as sns\n",
    "\n",
    "# Code block of plotting\n",
    "\n",
    "def plot_heatmap(confusion_matrix, motifs, output_file, need_save = False):\n",
    "    # orange = [\"#f8f8f8\", \"#ED6C00\"]\n",
    "    azure = [\"#f8f8f8\", \"#2BB7B3\"]\n",
    "    # darkgreen = [\"#f8f8f8\", \"#003F43\"]\n",
    "    df_cm = pd.DataFrame(confusion_matrix.T, index=motifs, columns=motifs)\n",
    "\n",
    "    custom_cmap = LinearSegmentedColormap.from_list(\"custom_cmap\", azure, N=100)\n",
    "\n",
    "    plt.figure(figsize=(5, 5))\n",
    "    ax = sns.heatmap(df_cm, annot=True, fmt='.2f', cmap=custom_cmap, annot_kws={\"size\": 12}, cbar_kws={'label': 'Substitution (%)'})\n",
    "\n",
    "    cbar = ax.collections[0].colorbar\n",
    "    cbar.ax.yaxis.label.set_size(12)\n",
    "    cbar.ax.tick_params(labelsize=12)\n",
    "\n",
    "    ax.set_yticklabels(ax.get_yticklabels(), rotation=0)\n",
    "    plt.xticks(fontsize=12)\n",
    "    plt.yticks(fontsize=12)\n",
    "    plt.xlabel('Query Base', fontsize=12)\n",
    "    plt.ylabel('Reference Base', fontsize=12)\n",
    "    plt.tight_layout()\n",
    "    plt.savefig(output_file) if need_save else None\n",
    "    plt.show()"
   ]
  },
  {
   "cell_type": "code",
   "execution_count": null,
   "id": "03eb278d",
   "metadata": {},
   "outputs": [
    {
     "name": "stdout",
     "output_type": "stream",
     "text": [
      "Loading reference genome completed\n"
     ]
    },
    {
     "data": {
      "application/vnd.jupyter.widget-view+json": {
       "model_id": "3d48b32cb46044878b2d87a531630d5d",
       "version_major": 2,
       "version_minor": 0
      },
      "text/plain": [
       "Processing PAF:   0%|          | 0/85033 [00:00<?, ?read/s]"
      ]
     },
     "metadata": {},
     "output_type": "display_data"
    }
   ],
   "source": [
    "df = extract_stats_from_paf_table(\n",
    "    paf_path=\"./minimap2_rsts/Salmonella_enterica_output.paf\",\n",
    "    ref_fasta_path=\"./refs/Salmonella_enterica/GCF_000006945.2_ASM694v2_genomic.fna\",\n",
    ")"
   ]
  },
  {
   "cell_type": "code",
   "execution_count": 4,
   "id": "4924e915",
   "metadata": {},
   "outputs": [
    {
     "data": {
      "text/plain": [
       "array([[94.01032896,  1.28710884,  3.57031025,  1.13225195],\n",
       "       [ 1.42187332, 93.13628834,  1.73024142,  3.71159692],\n",
       "       [ 3.76623263,  1.71609065, 93.10028231,  1.41739441],\n",
       "       [ 1.12917838,  3.5631737 ,  1.31183612, 93.9958118 ]])"
      ]
     },
     "execution_count": 4,
     "metadata": {},
     "output_type": "execute_result"
    }
   ],
   "source": [
    "from itertools import product\n",
    "import numpy as np\n",
    "\n",
    "bases = ['a', 'c', 'g', 't']\n",
    "base_change_matrix = np.zeros((4, 4), dtype=int)\n",
    "for base in product(bases, repeat=2):\n",
    "    base_change = f\"{base[0]}->{base[1]}\"\n",
    "    if base_change in df.columns:\n",
    "        base_change_matrix[bases.index(base[0]), bases.index(base[1])] = df[base_change].sum()\n",
    "        \n",
    "row_sum = np.sum(base_change_matrix, axis=1, keepdims=True)\n",
    "base_change_percentage = np.divide(base_change_matrix * 100, row_sum, where=row_sum != 0)\n",
    "base_change_percentage"
   ]
  },
  {
   "cell_type": "code",
   "execution_count": 5,
   "id": "a4326fb9",
   "metadata": {},
   "outputs": [
    {
     "data": {
      "image/png": "[encoded data removed]",
      "text/plain": [
       "<Figure size 500x500 with 2 Axes>"
      ]
     },
     "metadata": {},
     "output_type": "display_data"
    }
   ],
   "source": [
    "motifs = [''.join(_) for _ in product('ACGT', repeat=1)]\n",
    "plot_heatmap(base_change_percentage, motifs, './', need_save=False)"
   ]
  }
 ],
 "metadata": {
  "kernelspec": {
   "display_name": "polyT",
   "language": "python",
   "name": "python3"
  },
  "language_info": {
   "codemirror_mode": {
    "name": "ipython",
    "version": 3
   },
   "file_extension": ".py",
   "mimetype": "text/x-python",
   "name": "python",
   "nbconvert_exporter": "python",
   "pygments_lexer": "ipython3",
   "version": "3.10.16"
  }
 },
 "nbformat": 4,
 "nbformat_minor": 5
}
